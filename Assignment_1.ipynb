{
 "cells": [
  {
   "cell_type": "markdown",
   "id": "63013c46-eab3-4ec1-a5f3-f2ce6fc845e8",
   "metadata": {},
   "source": [
    "## Assignment 1"
   ]
  },
  {
   "cell_type": "markdown",
   "id": "d68722e3-38c8-4c7f-b5f4-1347e85c0a2b",
   "metadata": {},
   "source": [
    "Create a list of salaries"
   ]
  },
  {
   "cell_type": "code",
   "execution_count": 1,
   "id": "f0814851-c5cc-4de0-9cf7-25546768dd56",
   "metadata": {},
   "outputs": [],
   "source": [
    "salaries = ['20k', '40k', '50k', '60k', '35k','89k', '40k']"
   ]
  },
  {
   "cell_type": "markdown",
   "id": "71b9875e-8e66-40d9-b101-132946a7c574",
   "metadata": {},
   "source": [
    "1) What is the length of the salaries loist?"
   ]
  },
  {
   "cell_type": "code",
   "execution_count": 2,
   "id": "69023431-8b35-4fc1-9fc3-4413ea30cdb4",
   "metadata": {},
   "outputs": [
    {
     "data": {
      "text/plain": [
       "7"
      ]
     },
     "execution_count": 2,
     "metadata": {},
     "output_type": "execute_result"
    }
   ],
   "source": [
    "len (salaries)"
   ]
  },
  {
   "cell_type": "markdown",
   "id": "be5b4686-35e7-4c20-9520-a3c13c567b2c",
   "metadata": {},
   "source": [
    "2) Retrieve the third salary in the list by using index."
   ]
  },
  {
   "cell_type": "code",
   "execution_count": 3,
   "id": "744151f3-3fb8-4abb-bc30-6da2db66ef9c",
   "metadata": {},
   "outputs": [
    {
     "data": {
      "text/plain": [
       "'50k'"
      ]
     },
     "execution_count": 3,
     "metadata": {},
     "output_type": "execute_result"
    }
   ],
   "source": [
    "salaries [2]"
   ]
  },
  {
   "cell_type": "markdown",
   "id": "fa0eebbb-5eec-452e-bf1d-2518c1ba10a9",
   "metadata": {},
   "source": [
    "3) Extract the last salary from the list by using a negative index."
   ]
  },
  {
   "cell_type": "code",
   "execution_count": 4,
   "id": "fd1c0013-1e77-4bbc-a104-057e66529570",
   "metadata": {},
   "outputs": [
    {
     "data": {
      "text/plain": [
       "'40k'"
      ]
     },
     "execution_count": 4,
     "metadata": {},
     "output_type": "execute_result"
    }
   ],
   "source": [
    "salaries[-1]"
   ]
  },
  {
   "cell_type": "markdown",
   "id": "adfe5d76-4d1a-466b-a315-f40e31642e6c",
   "metadata": {},
   "source": [
    "4) Slice the salaries list to get only the middle three salaries."
   ]
  },
  {
   "cell_type": "code",
   "execution_count": 5,
   "id": "9f9ccf08-0e5d-40e2-b2b4-8fd3e1744d88",
   "metadata": {},
   "outputs": [
    {
     "data": {
      "text/plain": [
       "['50k', '60k', '35k']"
      ]
     },
     "execution_count": 5,
     "metadata": {},
     "output_type": "execute_result"
    }
   ],
   "source": [
    "salaries[2:5]"
   ]
  },
  {
   "cell_type": "markdown",
   "id": "b258d41d-3ae2-4688-8113-2b62b6417e6d",
   "metadata": {},
   "source": [
    "5) Add a new salary to the list, '100k' by using append()."
   ]
  },
  {
   "cell_type": "code",
   "execution_count": 6,
   "id": "081a1809-c1e4-4f0e-951f-acffc0990899",
   "metadata": {},
   "outputs": [],
   "source": [
    "salaries.append('100k')"
   ]
  },
  {
   "cell_type": "code",
   "execution_count": 7,
   "id": "ca4a7e10-3fc4-4750-8c2b-2aaebed18111",
   "metadata": {},
   "outputs": [
    {
     "data": {
      "text/plain": [
       "['20k', '40k', '50k', '60k', '35k', '89k', '40k', '100k']"
      ]
     },
     "execution_count": 7,
     "metadata": {},
     "output_type": "execute_result"
    }
   ],
   "source": [
    "salaries"
   ]
  },
  {
   "cell_type": "markdown",
   "id": "115476d6-ad50-4fc1-b5cf-a32fac01b351",
   "metadata": {},
   "source": [
    "5) Add a new salary to the list, '120k' without method."
   ]
  },
  {
   "cell_type": "code",
   "execution_count": 8,
   "id": "0f860365-42ce-4954-b938-3d88445d5fc4",
   "metadata": {},
   "outputs": [],
   "source": [
    "salaries = salaries + ['120k']"
   ]
  },
  {
   "cell_type": "code",
   "execution_count": 9,
   "id": "cb22cb54-94b0-4d9b-93e2-211cbf876816",
   "metadata": {},
   "outputs": [
    {
     "data": {
      "text/plain": [
       "['20k', '40k', '50k', '60k', '35k', '89k', '40k', '100k', '120k']"
      ]
     },
     "execution_count": 9,
     "metadata": {},
     "output_type": "execute_result"
    }
   ],
   "source": [
    "salaries"
   ]
  },
  {
   "cell_type": "markdown",
   "id": "87511de3-5730-4304-9911-544e23dffe53",
   "metadata": {},
   "source": [
    "6) Replace the third salary in the list with '55k' and print the updated list."
   ]
  },
  {
   "cell_type": "code",
   "execution_count": 10,
   "id": "d26a965e-9660-463e-991f-8060f2534b85",
   "metadata": {},
   "outputs": [],
   "source": [
    "salaries[2] = '55k' "
   ]
  },
  {
   "cell_type": "code",
   "execution_count": 11,
   "id": "230a86ab-de65-4209-917c-f496e0abf819",
   "metadata": {},
   "outputs": [
    {
     "data": {
      "text/plain": [
       "['20k', '40k', '55k', '60k', '35k', '89k', '40k', '100k', '120k']"
      ]
     },
     "execution_count": 11,
     "metadata": {},
     "output_type": "execute_result"
    }
   ],
   "source": [
    "salaries"
   ]
  },
  {
   "cell_type": "markdown",
   "id": "26e23fc8-94fd-41fa-84d0-894e3490067e",
   "metadata": {},
   "source": [
    "7) Count how many times '40k' appears in the list"
   ]
  },
  {
   "cell_type": "code",
   "execution_count": 12,
   "id": "4770ab48-2323-4778-b463-b894a37fd38e",
   "metadata": {},
   "outputs": [
    {
     "data": {
      "text/plain": [
       "2"
      ]
     },
     "execution_count": 12,
     "metadata": {},
     "output_type": "execute_result"
    }
   ],
   "source": [
    "salaries.count('40k')"
   ]
  },
  {
   "cell_type": "markdown",
   "id": "5a5af82e-a8c2-47a6-b675-5ee8ffd97fa0",
   "metadata": {},
   "source": [
    "8) Insert a new salary at the second position."
   ]
  },
  {
   "cell_type": "code",
   "execution_count": 13,
   "id": "0e251a54-a1a9-4453-8b53-b3ca880363fd",
   "metadata": {},
   "outputs": [],
   "source": [
    "salaries.insert (1, '30k')"
   ]
  },
  {
   "cell_type": "code",
   "execution_count": 14,
   "id": "5f941219-8a20-4386-9709-d8d782ffddd5",
   "metadata": {},
   "outputs": [
    {
     "data": {
      "text/plain": [
       "['20k', '30k', '40k', '55k', '60k', '35k', '89k', '40k', '100k', '120k']"
      ]
     },
     "execution_count": 14,
     "metadata": {},
     "output_type": "execute_result"
    }
   ],
   "source": [
    "salaries"
   ]
  },
  {
   "cell_type": "markdown",
   "id": "24df8e4a-67ef-4968-83c8-7aa91360b0c2",
   "metadata": {},
   "source": [
    "9) Reverse the orderof the salaries list with method"
   ]
  },
  {
   "cell_type": "code",
   "execution_count": 15,
   "id": "f887419b-0eaf-4708-8298-20be0147e78b",
   "metadata": {},
   "outputs": [],
   "source": [
    "salaries.reverse()"
   ]
  },
  {
   "cell_type": "code",
   "execution_count": 16,
   "id": "088054d6-b1bb-437a-8621-70cad2bc5b28",
   "metadata": {},
   "outputs": [
    {
     "data": {
      "text/plain": [
       "['120k', '100k', '40k', '89k', '35k', '60k', '55k', '40k', '30k', '20k']"
      ]
     },
     "execution_count": 16,
     "metadata": {},
     "output_type": "execute_result"
    }
   ],
   "source": [
    "salaries"
   ]
  },
  {
   "cell_type": "markdown",
   "id": "85d43d8f-f3a4-4aa7-bb0f-5c3cf9608211",
   "metadata": {},
   "source": [
    "10) Reverse the order of the salaries list without method."
   ]
  },
  {
   "cell_type": "code",
   "execution_count": 19,
   "id": "bd257a1e-1254-4556-8448-835e59ec1971",
   "metadata": {},
   "outputs": [
    {
     "data": {
      "text/plain": [
       "['20k', '30k', '40k', '55k', '60k', '35k', '89k', '40k', '100k', '120k']"
      ]
     },
     "execution_count": 19,
     "metadata": {},
     "output_type": "execute_result"
    }
   ],
   "source": [
    "salaries[::-1]"
   ]
  },
  {
   "cell_type": "markdown",
   "id": "77b7720b-90e6-46bb-8077-3ea9875d21e2",
   "metadata": {},
   "source": [
    "End of Assingment"
   ]
  },
  {
   "cell_type": "code",
   "execution_count": null,
   "id": "c0f45e97-a205-46ab-8608-83766d843222",
   "metadata": {},
   "outputs": [],
   "source": []
  }
 ],
 "metadata": {
  "kernelspec": {
   "display_name": "Python 3 (ipykernel)",
   "language": "python",
   "name": "python3"
  },
  "language_info": {
   "codemirror_mode": {
    "name": "ipython",
    "version": 3
   },
   "file_extension": ".py",
   "mimetype": "text/x-python",
   "name": "python",
   "nbconvert_exporter": "python",
   "pygments_lexer": "ipython3",
   "version": "3.12.7"
  }
 },
 "nbformat": 4,
 "nbformat_minor": 5
}
